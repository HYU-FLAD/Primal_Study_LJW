{
 "cells": [
  {
   "cell_type": "markdown",
   "metadata": {
    "id": "3FrrQgVx9L-u"
   },
   "source": [
    "<a href=\"https://colab.research.google.com/github/jonasrauber/foolbox-native-tutorial/blob/master/foolbox-native-tutorial.ipynb\" target=\"_parent\"><img src=\"https://colab.research.google.com/assets/colab-badge.svg\" alt=\"Open In Colab\"/></a>"
   ]
  },
  {
   "cell_type": "markdown",
   "metadata": {
    "id": "7cCbtnx3VtiF"
   },
   "source": [
    "## Activate GPU\n",
    "\n",
    "1.   Runtime menu\n",
    "2.   Change runtime type\n",
    "3.   Hardware accelerator -> GPU"
   ]
  },
  {
   "cell_type": "markdown",
   "metadata": {
    "id": "f-prR7akVTVD"
   },
   "source": [
    "## Get Foolbox"
   ]
  },
  {
   "cell_type": "code",
   "execution_count": 1,
   "metadata": {
    "colab": {
     "base_uri": "https://localhost:8080/",
     "height": 555
    },
    "id": "zlBGQWxQU9He",
    "outputId": "cdaac748-56ed-4f0b-b083-11c617a56ae9",
    "scrolled": true
   },
   "outputs": [
    {
     "name": "stdout",
     "output_type": "stream",
     "text": [
      "Collecting foolbox==3.1.1\n",
      "  Obtaining dependency information for foolbox==3.1.1 from https://files.pythonhosted.org/packages/a0/78/f4f8d2654893b1382e6e7dc10e06c9ebaca9cf0fc22584f6ecc324140f0b/foolbox-3.1.1-py3-none-any.whl.metadata\n",
      "  Downloading foolbox-3.1.1-py3-none-any.whl.metadata (6.1 kB)\n",
      "Requirement already satisfied: numpy in /opt/conda/lib/python3.10/site-packages (from foolbox==3.1.1) (1.26.0)\n",
      "Requirement already satisfied: scipy in /opt/conda/lib/python3.10/site-packages (from foolbox==3.1.1) (1.15.3)\n",
      "Requirement already satisfied: setuptools in /opt/conda/lib/python3.10/site-packages (from foolbox==3.1.1) (68.0.0)\n",
      "Collecting eagerpy==0.29.0 (from foolbox==3.1.1)\n",
      "  Obtaining dependency information for eagerpy==0.29.0 from https://files.pythonhosted.org/packages/e1/07/54994565da4fc5a4840d3a434fb9bf3835b4a4e68c931ccfcc327d568f95/eagerpy-0.29.0-py3-none-any.whl.metadata\n",
      "  Downloading eagerpy-0.29.0-py3-none-any.whl.metadata (5.5 kB)\n",
      "Requirement already satisfied: GitPython>=3.0.7 in /opt/conda/lib/python3.10/site-packages (from foolbox==3.1.1) (3.1.45)\n",
      "Requirement already satisfied: typing-extensions>=3.7.4.1 in /opt/conda/lib/python3.10/site-packages (from foolbox==3.1.1) (4.7.1)\n",
      "Requirement already satisfied: requests>=2.24.0 in /opt/conda/lib/python3.10/site-packages (from foolbox==3.1.1) (2.31.0)\n",
      "Requirement already satisfied: gitdb<5,>=4.0.1 in /opt/conda/lib/python3.10/site-packages (from GitPython>=3.0.7->foolbox==3.1.1) (4.0.12)\n",
      "Requirement already satisfied: charset-normalizer<4,>=2 in /opt/conda/lib/python3.10/site-packages (from requests>=2.24.0->foolbox==3.1.1) (2.0.4)\n",
      "Requirement already satisfied: idna<4,>=2.5 in /opt/conda/lib/python3.10/site-packages (from requests>=2.24.0->foolbox==3.1.1) (3.4)\n",
      "Requirement already satisfied: urllib3<3,>=1.21.1 in /opt/conda/lib/python3.10/site-packages (from requests>=2.24.0->foolbox==3.1.1) (1.26.16)\n",
      "Requirement already satisfied: certifi>=2017.4.17 in /opt/conda/lib/python3.10/site-packages (from requests>=2.24.0->foolbox==3.1.1) (2023.7.22)\n",
      "Requirement already satisfied: smmap<6,>=3.0.1 in /opt/conda/lib/python3.10/site-packages (from gitdb<5,>=4.0.1->GitPython>=3.0.7->foolbox==3.1.1) (5.0.2)\n",
      "Downloading foolbox-3.1.1-py3-none-any.whl (1.7 MB)\n",
      "\u001b[2K   \u001b[90m━━━━━━━━━━━━━━━━━━━━━━━━━━━━━━━━━━━━━━━━\u001b[0m \u001b[32m1.7/1.7 MB\u001b[0m \u001b[31m4.8 MB/s\u001b[0m eta \u001b[36m0:00:00\u001b[0ma \u001b[36m0:00:01\u001b[0mm\n",
      "\u001b[?25hDownloading eagerpy-0.29.0-py3-none-any.whl (30 kB)\n",
      "Installing collected packages: eagerpy, foolbox\n",
      "  Attempting uninstall: eagerpy\n",
      "    Found existing installation: eagerpy 0.30.0\n",
      "    Uninstalling eagerpy-0.30.0:\n",
      "      Successfully uninstalled eagerpy-0.30.0\n",
      "  Attempting uninstall: foolbox\n",
      "    Found existing installation: foolbox 3.3.4\n",
      "    Uninstalling foolbox-3.3.4:\n",
      "      Successfully uninstalled foolbox-3.3.4\n",
      "Successfully installed eagerpy-0.29.0 foolbox-3.1.1\n",
      "\u001b[33mWARNING: Running pip as the 'root' user can result in broken permissions and conflicting behaviour with the system package manager. It is recommended to use a virtual environment instead: https://pip.pypa.io/warnings/venv\u001b[0m\u001b[33m\n",
      "\u001b[0m"
     ]
    }
   ],
   "source": [
    "!pip3 install foolbox==3.1.1\n",
    "# !pip3 install git+https://github.com/bethgelab/foolbox.git"
   ]
  },
  {
   "cell_type": "code",
   "execution_count": 2,
   "metadata": {
    "id": "EoSl-i8TVC_t"
   },
   "outputs": [],
   "source": [
    "import foolbox as fb"
   ]
  },
  {
   "cell_type": "markdown",
   "metadata": {
    "id": "v4MZV_trVPRR"
   },
   "source": [
    "## Get a model\n",
    "\n",
    "Get a pertrained PyTorch or TensorFlow model, e.g. `torchvision.models.resnet18` or `tf.keras.applications.ResNet50`."
   ]
  },
  {
   "cell_type": "markdown",
   "metadata": {
    "id": "lqgAKCZasz9P"
   },
   "source": [
    "#### PyTorch"
   ]
  },
  {
   "cell_type": "code",
   "execution_count": 3,
   "metadata": {
    "id": "_kdF_DVFVSr0"
   },
   "outputs": [],
   "source": [
    "import torch\n",
    "import torchvision"
   ]
  },
  {
   "cell_type": "code",
   "execution_count": 4,
   "metadata": {
    "colab": {
     "base_uri": "https://localhost:8080/"
    },
    "id": "tGF1zpCUsxwS",
    "outputId": "03b68bf5-03c5-4246-bcbc-fed2e3dc254d"
   },
   "outputs": [
    {
     "data": {
      "text/plain": [
       "'2.1.0'"
      ]
     },
     "execution_count": 4,
     "metadata": {},
     "output_type": "execute_result"
    }
   ],
   "source": [
    "torch.__version__"
   ]
  },
  {
   "cell_type": "code",
   "execution_count": 5,
   "metadata": {
    "colab": {
     "base_uri": "https://localhost:8080/"
    },
    "id": "zFQLEepCVo-V",
    "outputId": "4701ee1a-dac6-4f62-8160-376922266e40"
   },
   "outputs": [
    {
     "data": {
      "text/plain": [
       "True"
      ]
     },
     "execution_count": 5,
     "metadata": {},
     "output_type": "execute_result"
    }
   ],
   "source": [
    "torch.cuda.is_available()"
   ]
  },
  {
   "cell_type": "code",
   "execution_count": 6,
   "metadata": {
    "colab": {
     "base_uri": "https://localhost:8080/",
     "referenced_widgets": [
      "6a6127cafbaf435e895b8aecc29e1d5b",
      "8138122202424470ae69a2a51b96a323",
      "4ef7908156304a08bed88b37f7a819d3",
      "dc984818c51f4987a1c7069e423190c0",
      "18f2b11015404be0b753a51867a30c44",
      "4741f7d77b9343ad88cc5901bf4ebb6e",
      "6f6b8e23dc21497fa813c8b22ad0a08e",
      "d609671ca13e47a78141f54c4b7bf8a1"
     ]
    },
    "id": "S0ITh00mVePh",
    "outputId": "aa8868b6-7200-4311-8dd6-a4019bb0de68"
   },
   "outputs": [
    {
     "name": "stderr",
     "output_type": "stream",
     "text": [
      "/opt/conda/lib/python3.10/site-packages/torchvision/models/_utils.py:208: UserWarning: The parameter 'pretrained' is deprecated since 0.13 and may be removed in the future, please use 'weights' instead.\n",
      "  warnings.warn(\n",
      "/opt/conda/lib/python3.10/site-packages/torchvision/models/_utils.py:223: UserWarning: Arguments other than a weight enum or `None` for 'weights' are deprecated since 0.13 and may be removed in the future. The current behavior is equivalent to passing `weights=ResNet18_Weights.IMAGENET1K_V1`. You can also use `weights=ResNet18_Weights.DEFAULT` to get the most up-to-date weights.\n",
      "  warnings.warn(msg)\n",
      "Downloading: \"https://download.pytorch.org/models/resnet18-f37072fd.pth\" to /root/.cache/torch/hub/checkpoints/resnet18-f37072fd.pth\n",
      "100%|█████████████████████████████████████████████████████████████████████████████████████████████████████████████████████████████████████████████████████████████████████████████████████████████| 44.7M/44.7M [00:12<00:00, 3.82MB/s]\n"
     ]
    }
   ],
   "source": [
    "model = torchvision.models.resnet18(pretrained=True)"
   ]
  },
  {
   "cell_type": "code",
   "execution_count": 7,
   "metadata": {
    "id": "rS7Bsm3zt3Hl"
   },
   "outputs": [],
   "source": [
    "model = model.eval()"
   ]
  },
  {
   "cell_type": "markdown",
   "metadata": {
    "id": "vCv7EO7NXC83"
   },
   "source": [
    "## Turn your PyTorch / TensorFlow model into a Foolbox model\n",
    "\n",
    "Don't forget to specify the correct bounds and preprocessing!"
   ]
  },
  {
   "cell_type": "code",
   "execution_count": null,
   "metadata": {
    "id": "sAfPAmKtDZoT"
   },
   "outputs": [],
   "source": []
  },
  {
   "cell_type": "markdown",
   "metadata": {
    "id": "M5e1no0_DUqO"
   },
   "source": [
    "#### PyTorch Solution"
   ]
  },
  {
   "cell_type": "code",
   "execution_count": 15,
   "metadata": {
    "id": "4jT-svy6X_yd"
   },
   "outputs": [
    {
     "ename": "ValueError",
     "evalue": "expected model to be a torch.nn.Module instance",
     "output_type": "error",
     "traceback": [
      "\u001b[0;31m---------------------------------------------------------------------------\u001b[0m",
      "\u001b[0;31mValueError\u001b[0m                                Traceback (most recent call last)",
      "Cell \u001b[0;32mIn[15], line 4\u001b[0m\n\u001b[1;32m      2\u001b[0m preprocessing \u001b[38;5;241m=\u001b[39m \u001b[38;5;28mdict\u001b[39m(mean\u001b[38;5;241m=\u001b[39m[\u001b[38;5;241m0.485\u001b[39m, \u001b[38;5;241m0.456\u001b[39m, \u001b[38;5;241m0.406\u001b[39m], std\u001b[38;5;241m=\u001b[39m[\u001b[38;5;241m0.229\u001b[39m, \u001b[38;5;241m0.224\u001b[39m, \u001b[38;5;241m0.225\u001b[39m], axis\u001b[38;5;241m=\u001b[39m\u001b[38;5;241m-\u001b[39m\u001b[38;5;241m3\u001b[39m)\n\u001b[1;32m      3\u001b[0m bounds \u001b[38;5;241m=\u001b[39m (\u001b[38;5;241m0\u001b[39m, \u001b[38;5;241m1\u001b[39m)\n\u001b[0;32m----> 4\u001b[0m fmodel \u001b[38;5;241m=\u001b[39m \u001b[43mfb\u001b[49m\u001b[38;5;241;43m.\u001b[39;49m\u001b[43mPyTorchModel\u001b[49m\u001b[43m(\u001b[49m\u001b[43mmodel\u001b[49m\u001b[43m,\u001b[49m\u001b[43m \u001b[49m\u001b[43mbounds\u001b[49m\u001b[38;5;241;43m=\u001b[39;49m\u001b[43mbounds\u001b[49m\u001b[43m,\u001b[49m\u001b[43m \u001b[49m\u001b[43mpreprocessing\u001b[49m\u001b[38;5;241;43m=\u001b[39;49m\u001b[43mpreprocessing\u001b[49m\u001b[43m)\u001b[49m\n",
      "File \u001b[0;32m/opt/conda/lib/python3.10/site-packages/foolbox/models/pytorch.py:31\u001b[0m, in \u001b[0;36mPyTorchModel.__init__\u001b[0;34m(self, model, bounds, device, preprocessing)\u001b[0m\n\u001b[1;32m     28\u001b[0m \u001b[38;5;28;01mimport\u001b[39;00m \u001b[38;5;21;01mtorch\u001b[39;00m\n\u001b[1;32m     30\u001b[0m \u001b[38;5;28;01mif\u001b[39;00m \u001b[38;5;129;01mnot\u001b[39;00m \u001b[38;5;28misinstance\u001b[39m(model, torch\u001b[38;5;241m.\u001b[39mnn\u001b[38;5;241m.\u001b[39mModule):\n\u001b[0;32m---> 31\u001b[0m     \u001b[38;5;28;01mraise\u001b[39;00m \u001b[38;5;167;01mValueError\u001b[39;00m(\u001b[38;5;124m\"\u001b[39m\u001b[38;5;124mexpected model to be a torch.nn.Module instance\u001b[39m\u001b[38;5;124m\"\u001b[39m)\n\u001b[1;32m     33\u001b[0m \u001b[38;5;28;01mif\u001b[39;00m model\u001b[38;5;241m.\u001b[39mtraining:\n\u001b[1;32m     34\u001b[0m     \u001b[38;5;28;01mwith\u001b[39;00m warnings\u001b[38;5;241m.\u001b[39mcatch_warnings():\n",
      "\u001b[0;31mValueError\u001b[0m: expected model to be a torch.nn.Module instance"
     ]
    }
   ],
   "source": [
    "# PyTorch ResNet18\n",
    "preprocessing = dict(mean=[0.485, 0.456, 0.406], std=[0.229, 0.224, 0.225], axis=-3)\n",
    "bounds = (0, 1)\n",
    "fmodel = fb.PyTorchModel(model, bounds=bounds, preprocessing=preprocessing)"
   ]
  },
  {
   "cell_type": "markdown",
   "metadata": {
    "id": "ZIFNv2HsYmGt"
   },
   "source": [
    "## Transform bounds\n",
    "\n",
    "In the following, we want to work with a model that has `(0, 1)` bounds. Use `fmodel.transform_bounds`."
   ]
  },
  {
   "cell_type": "code",
   "execution_count": null,
   "metadata": {
    "id": "aD3g8m3cY4aO"
   },
   "outputs": [],
   "source": [
    "fmodel = fmodel.transform_bounds((0, 1))"
   ]
  },
  {
   "cell_type": "code",
   "execution_count": null,
   "metadata": {
    "id": "dknfqEoyZ9BK"
   },
   "outputs": [],
   "source": [
    "assert fmodel.bounds == (0, 1)"
   ]
  },
  {
   "cell_type": "markdown",
   "metadata": {
    "id": "5-IRsoejYFKG"
   },
   "source": [
    "## Get some test images\n",
    "\n",
    "Get a batch of 16 images and the corrresponding labels. You can use `foolbox.utils.samples` to get up to 20 images, but you can also you your own data loader."
   ]
  },
  {
   "cell_type": "code",
   "execution_count": null,
   "metadata": {
    "id": "7_iGIBTAYRRV"
   },
   "outputs": [],
   "source": [
    "images, labels = fb.utils.samples(fmodel, dataset='imagenet', batchsize=16)"
   ]
  },
  {
   "cell_type": "markdown",
   "metadata": {
    "id": "16RxhaaTZHGW"
   },
   "source": [
    "## Check the accuracy of your model to make sure you specified the correct preprocessing"
   ]
  },
  {
   "cell_type": "code",
   "execution_count": null,
   "metadata": {
    "colab": {
     "base_uri": "https://localhost:8080/",
     "height": 34
    },
    "id": "YYzcm-y3ZEge",
    "outputId": "5495b6e9-df2d-47f5-819f-ec57e58dba8f"
   },
   "outputs": [],
   "source": [
    "fb.utils.accuracy(fmodel, images, labels)"
   ]
  },
  {
   "cell_type": "code",
   "execution_count": null,
   "metadata": {
    "colab": {
     "base_uri": "https://localhost:8080/",
     "height": 34
    },
    "id": "s0KKvszBZTK_",
    "outputId": "7dc1fd26-f53f-4a5c-f492-9d6ab6fa13c4"
   },
   "outputs": [],
   "source": [
    "type(images), images.shape"
   ]
  },
  {
   "cell_type": "code",
   "execution_count": null,
   "metadata": {
    "colab": {
     "base_uri": "https://localhost:8080/",
     "height": 34
    },
    "id": "jdVr1I7xa3eZ",
    "outputId": "6a3a4d29-bba5-4412-c584-226f088c898c"
   },
   "outputs": [],
   "source": [
    "type(labels), labels.shape"
   ]
  },
  {
   "cell_type": "markdown",
   "metadata": {
    "id": "-A-U7jXkaL5Z"
   },
   "source": [
    "## Run LinfDeepFool"
   ]
  },
  {
   "cell_type": "code",
   "execution_count": null,
   "metadata": {
    "id": "ok1bWA0zaPqk"
   },
   "outputs": [],
   "source": [
    "attack = fb.attacks.LinfDeepFoolAttack()"
   ]
  },
  {
   "cell_type": "code",
   "execution_count": null,
   "metadata": {
    "colab": {
     "base_uri": "https://localhost:8080/"
    },
    "id": "0tSDbfp0abaD",
    "outputId": "a1203797-d9cd-4eda-c4cb-72ba2e53b9ea"
   },
   "outputs": [],
   "source": [
    "raw, clipped, is_adv = attack(fmodel, images, labels, epsilons=0.03)"
   ]
  },
  {
   "cell_type": "code",
   "execution_count": null,
   "metadata": {
    "colab": {
     "base_uri": "https://localhost:8080/"
    },
    "id": "UDOMxl_Iar5N",
    "outputId": "266631b9-d29d-47bc-85ca-d3a8a733e6da"
   },
   "outputs": [],
   "source": [
    "is_adv"
   ]
  },
  {
   "cell_type": "markdown",
   "metadata": {
    "id": "vUXEA9Zqa_iv"
   },
   "source": [
    "## Use EagerPy tensors and rerun the attack"
   ]
  },
  {
   "cell_type": "code",
   "execution_count": null,
   "metadata": {
    "id": "55VDs2bAbDpq"
   },
   "outputs": [],
   "source": [
    "import eagerpy as ep"
   ]
  },
  {
   "cell_type": "code",
   "execution_count": null,
   "metadata": {
    "id": "x1awB7O9bBQb"
   },
   "outputs": [],
   "source": [
    "images = ep.astensor(images)\n",
    "labels = ep.astensor(labels)"
   ]
  },
  {
   "cell_type": "code",
   "execution_count": null,
   "metadata": {
    "id": "0537i5ktbICC"
   },
   "outputs": [],
   "source": [
    "raw, clipped, is_adv = attack(fmodel, images, labels, epsilons=0.03)"
   ]
  },
  {
   "cell_type": "code",
   "execution_count": null,
   "metadata": {
    "colab": {
     "base_uri": "https://localhost:8080/"
    },
    "id": "nWtyIWKVbQz5",
    "outputId": "fd2e1a8f-8446-4bdf-94ee-2900e93ebbd7"
   },
   "outputs": [],
   "source": [
    "is_adv"
   ]
  },
  {
   "cell_type": "code",
   "execution_count": null,
   "metadata": {
    "colab": {
     "base_uri": "https://localhost:8080/"
    },
    "id": "xKzZYtsGbS6U",
    "outputId": "a4e47cc8-ac7c-4958-9b6d-575070d06b31"
   },
   "outputs": [],
   "source": [
    "is_adv.float32().mean().item()"
   ]
  },
  {
   "cell_type": "markdown",
   "metadata": {
    "id": "beBtrF8bEvK4"
   },
   "source": [
    "## Using the Misclassification criterion explicitly"
   ]
  },
  {
   "cell_type": "code",
   "execution_count": null,
   "metadata": {
    "id": "xfgD6korE-qH"
   },
   "outputs": [],
   "source": [
    "criterion = fb.criteria.Misclassification(labels)"
   ]
  },
  {
   "cell_type": "code",
   "execution_count": null,
   "metadata": {
    "id": "nBub7erBFHT6"
   },
   "outputs": [],
   "source": [
    "raw, clipped, is_adv = attack(fmodel, images, criterion, epsilons=0.03)"
   ]
  },
  {
   "cell_type": "code",
   "execution_count": null,
   "metadata": {
    "colab": {
     "base_uri": "https://localhost:8080/"
    },
    "id": "_X-YiV7-FJ0T",
    "outputId": "7fbbd5c8-29ef-44a6-92e1-f4ad07ac591c"
   },
   "outputs": [],
   "source": [
    "is_adv"
   ]
  },
  {
   "cell_type": "markdown",
   "metadata": {
    "id": "-XHAOyeDbaT2"
   },
   "source": [
    "## Run the attack using many epsilons"
   ]
  },
  {
   "cell_type": "code",
   "execution_count": null,
   "metadata": {
    "id": "ywZt64jQccX4"
   },
   "outputs": [],
   "source": [
    "import numpy as np"
   ]
  },
  {
   "cell_type": "code",
   "execution_count": null,
   "metadata": {
    "id": "pk0kP1dvbWt0"
   },
   "outputs": [],
   "source": [
    "epsilons = np.linspace(0.0, 0.005, num=20)"
   ]
  },
  {
   "cell_type": "code",
   "execution_count": null,
   "metadata": {
    "id": "Rul-b9QUbqR8"
   },
   "outputs": [],
   "source": [
    "raw, clipped, is_adv = attack(fmodel, images, labels, epsilons=epsilons)"
   ]
  },
  {
   "cell_type": "code",
   "execution_count": null,
   "metadata": {
    "colab": {
     "base_uri": "https://localhost:8080/"
    },
    "id": "hM3uM7htbsSf",
    "outputId": "18b1ab8b-e881-49fc-9ada-1dd5b0ef04ad"
   },
   "outputs": [],
   "source": [
    "is_adv.shape"
   ]
  },
  {
   "cell_type": "code",
   "execution_count": null,
   "metadata": {
    "colab": {
     "base_uri": "https://localhost:8080/"
    },
    "id": "hWE-5qCjb4gW",
    "outputId": "75286819-c668-4374-b254-bbc82d31b819"
   },
   "outputs": [],
   "source": [
    "is_adv.float32().mean(axis=-1)"
   ]
  },
  {
   "cell_type": "code",
   "execution_count": null,
   "metadata": {
    "id": "KEf5-wQtcD2Z"
   },
   "outputs": [],
   "source": [
    "robust_accuracy = 1 - is_adv.float32().mean(axis=-1)"
   ]
  },
  {
   "cell_type": "code",
   "execution_count": null,
   "metadata": {
    "colab": {
     "base_uri": "https://localhost:8080/"
    },
    "id": "mVUNz6G1cKT2",
    "outputId": "6b28b310-f36e-4fc5-e9f8-3380cf40fdc9"
   },
   "outputs": [],
   "source": [
    "robust_accuracy"
   ]
  },
  {
   "cell_type": "markdown",
   "metadata": {
    "id": "xHb2XzjVcMyb"
   },
   "source": [
    "## Plot the robust accuracy as a function of epsilon"
   ]
  },
  {
   "cell_type": "code",
   "execution_count": null,
   "metadata": {
    "id": "WLuSC9mHcNIv"
   },
   "outputs": [],
   "source": [
    "import matplotlib.pyplot as plt"
   ]
  },
  {
   "cell_type": "code",
   "execution_count": null,
   "metadata": {
    "colab": {
     "base_uri": "https://localhost:8080/",
     "height": 282
    },
    "id": "UfsP6Oa6cLac",
    "outputId": "a754116b-8424-4fa7-9c76-a11d13193cc5"
   },
   "outputs": [],
   "source": [
    "plt.plot(epsilons, robust_accuracy.numpy())"
   ]
  },
  {
   "cell_type": "markdown",
   "metadata": {
    "id": "AHZxs8GS6QuZ"
   },
   "source": [
    "We can see that **the model is not robust** at all. Even extremely small perturbations (Linf norm of 0.003 for pixels between 0 and 1) are sufficient\n",
    "to change the classification."
   ]
  },
  {
   "cell_type": "markdown",
   "metadata": {
    "id": "j0GjZI4Xc2Ug"
   },
   "source": [
    "## Run a targeted attack"
   ]
  },
  {
   "cell_type": "code",
   "execution_count": null,
   "metadata": {
    "colab": {
     "base_uri": "https://localhost:8080/",
     "height": 52
    },
    "id": "eKgW3nmJwGXT",
    "outputId": "6e3f65e0-046a-4cf3-f1ef-d389329991fb"
   },
   "outputs": [],
   "source": [
    "labels"
   ]
  },
  {
   "cell_type": "code",
   "execution_count": null,
   "metadata": {
    "id": "HNKHXJRmwAIg"
   },
   "outputs": [],
   "source": [
    "target_classes = (labels + 200) % 1000"
   ]
  },
  {
   "cell_type": "code",
   "execution_count": null,
   "metadata": {
    "colab": {
     "base_uri": "https://localhost:8080/",
     "height": 52
    },
    "id": "rQYu5MADwQfM",
    "outputId": "8e6c6e19-f10f-43b6-ff2a-5b1352afbdff"
   },
   "outputs": [],
   "source": [
    "target_classes"
   ]
  },
  {
   "cell_type": "code",
   "execution_count": null,
   "metadata": {
    "id": "qyWL1BbidDIm"
   },
   "outputs": [],
   "source": [
    "criterion = fb.criteria.TargetedMisclassification(target_classes)"
   ]
  },
  {
   "cell_type": "code",
   "execution_count": null,
   "metadata": {
    "id": "eoI1w0i1wrp6"
   },
   "outputs": [],
   "source": [
    "attack = fb.attacks.L2CarliniWagnerAttack(steps=100)\n",
    "# Note: 100 is too little -> results will be bad = perturbations will be relatively large (but 1000 takes much longer)"
   ]
  },
  {
   "cell_type": "code",
   "execution_count": null,
   "metadata": {
    "id": "cjX0RmLlxOLn"
   },
   "outputs": [],
   "source": [
    "# epsilons = np.linspace(0.0, 10.0, num=20)\n",
    "epsilons = None"
   ]
  },
  {
   "cell_type": "code",
   "execution_count": null,
   "metadata": {
    "id": "fBw5Cjxvwd-R"
   },
   "outputs": [],
   "source": [
    "advs, _, is_adv = attack(fmodel, images, criterion, epsilons=epsilons)"
   ]
  },
  {
   "cell_type": "code",
   "execution_count": null,
   "metadata": {
    "colab": {
     "base_uri": "https://localhost:8080/",
     "height": 52
    },
    "id": "6ihN4Hskyi-H",
    "outputId": "b7a31586-45dd-4810-bdde-276d7f239dfc"
   },
   "outputs": [],
   "source": [
    "is_adv"
   ]
  },
  {
   "cell_type": "code",
   "execution_count": null,
   "metadata": {
    "colab": {
     "base_uri": "https://localhost:8080/",
     "height": 69
    },
    "id": "6-u5SRYg1-nf",
    "outputId": "e174ba11-aeae-4e0b-8ca3-7af0e969a0ca"
   },
   "outputs": [],
   "source": [
    "fb.distances.l2(images, advs)"
   ]
  },
  {
   "cell_type": "code",
   "execution_count": null,
   "metadata": {
    "id": "7AU7PYNIwhTl"
   },
   "outputs": [],
   "source": [
    "# attack_success_rate = is_adv.float32().mean(axis=-1)"
   ]
  },
  {
   "cell_type": "code",
   "execution_count": null,
   "metadata": {
    "id": "Geydb0ryw-oc"
   },
   "outputs": [],
   "source": [
    "# plt.plot(epsilons, attack_success_rate.numpy())"
   ]
  },
  {
   "cell_type": "markdown",
   "metadata": {
    "id": "0-89Dcm14lg-"
   },
   "source": [
    "## Visualizing adversarial examples and perturbations"
   ]
  },
  {
   "cell_type": "code",
   "execution_count": null,
   "metadata": {
    "colab": {
     "base_uri": "https://localhost:8080/",
     "height": 96
    },
    "id": "iNziF0QM4oDf",
    "outputId": "27d53739-4239-4054-95d0-49364fa65120"
   },
   "outputs": [],
   "source": [
    "fb.plot.images(images)"
   ]
  },
  {
   "cell_type": "code",
   "execution_count": null,
   "metadata": {
    "colab": {
     "base_uri": "https://localhost:8080/",
     "height": 96
    },
    "id": "CSSNpohg5uaU",
    "outputId": "73c82578-9211-411b-b512-0d7e23943ad6"
   },
   "outputs": [],
   "source": [
    "fb.plot.images(advs)"
   ]
  },
  {
   "cell_type": "code",
   "execution_count": null,
   "metadata": {
    "colab": {
     "base_uri": "https://localhost:8080/",
     "height": 309
    },
    "id": "Ft4Vjb506GPg",
    "outputId": "d5ca78f1-1649-4da7-b357-13c51626c100"
   },
   "outputs": [],
   "source": [
    "fb.plot.images(advs - images, n=4, bounds=(-0.1, 0.1), scale=4.)"
   ]
  },
  {
   "cell_type": "markdown",
   "metadata": {
    "id": "HQS3adgg6xwC"
   },
   "source": [
    "The adversarial examples look like the orignal (clean) images. That shows that **the model is not robust against adversarial attacks**. Tiny perturbations mislead the model and allow the attacker to control which class is recognized."
   ]
  },
  {
   "cell_type": "markdown",
   "metadata": {
    "id": "0qhSuyHAc8ji"
   },
   "source": [
    "## Continuing from here ...\n",
    "\n",
    "\n",
    "\n",
    "*   Repeating an attack (`attack = attack.repeat(3)`)\n",
    "*   Getting the per-sample worst-case over multiple attacks\n",
    "    * stack attack results and take max over the attacks before taking the mean over samples\n",
    "*   Gradient estimators (`fb.gradient_estimators.*`)\n",
    "*   Transfer attacks using gradient substitution (see examples)\n",
    "\n"
   ]
  },
  {
   "cell_type": "code",
   "execution_count": null,
   "metadata": {
    "id": "aEu3mNcxcTnG"
   },
   "outputs": [],
   "source": []
  }
 ],
 "metadata": {
  "accelerator": "GPU",
  "colab": {
   "collapsed_sections": [
    "ZCzmdczhBkSL",
    "ldGVK689BqSs",
    "GFRoex7-B4lj",
    "M5e1no0_DUqO",
    "JYYYPYsvDbhF",
    "CSTk5QS1Dh09",
    "aVFykA0jDnt8",
    "4IJ9S63QDrW0",
    "Whh9Yqh7D2au",
    "cOs-TwIHEBiT",
    "b5qD7Yo7E0Nq",
    "Zt7tTbEoEKlL",
    "yHaOZFR8Ef6F",
    "zEBlhDhTEjqk",
    "V3CywhNvFd3y"
   ],
   "name": "foolbox3.ipynb",
   "provenance": []
  },
  "kernelspec": {
   "display_name": "Python 3 (ipykernel)",
   "language": "python",
   "name": "python3"
  },
  "language_info": {
   "codemirror_mode": {
    "name": "ipython",
    "version": 3
   },
   "file_extension": ".py",
   "mimetype": "text/x-python",
   "name": "python",
   "nbconvert_exporter": "python",
   "pygments_lexer": "ipython3",
   "version": "3.10.13"
  },
  "widgets": {
   "application/vnd.jupyter.widget-state+json": {
    "18f2b11015404be0b753a51867a30c44": {
     "model_module": "@jupyter-widgets/controls",
     "model_module_version": "1.5.0",
     "model_name": "ProgressStyleModel",
     "state": {
      "_model_module": "@jupyter-widgets/controls",
      "_model_module_version": "1.5.0",
      "_model_name": "ProgressStyleModel",
      "_view_count": null,
      "_view_module": "@jupyter-widgets/base",
      "_view_module_version": "1.2.0",
      "_view_name": "StyleView",
      "bar_color": null,
      "description_width": "initial"
     }
    },
    "4741f7d77b9343ad88cc5901bf4ebb6e": {
     "model_module": "@jupyter-widgets/base",
     "model_module_version": "1.2.0",
     "model_name": "LayoutModel",
     "state": {
      "_model_module": "@jupyter-widgets/base",
      "_model_module_version": "1.2.0",
      "_model_name": "LayoutModel",
      "_view_count": null,
      "_view_module": "@jupyter-widgets/base",
      "_view_module_version": "1.2.0",
      "_view_name": "LayoutView",
      "align_content": null,
      "align_items": null,
      "align_self": null,
      "border": null,
      "bottom": null,
      "display": null,
      "flex": null,
      "flex_flow": null,
      "grid_area": null,
      "grid_auto_columns": null,
      "grid_auto_flow": null,
      "grid_auto_rows": null,
      "grid_column": null,
      "grid_gap": null,
      "grid_row": null,
      "grid_template_areas": null,
      "grid_template_columns": null,
      "grid_template_rows": null,
      "height": null,
      "justify_content": null,
      "justify_items": null,
      "left": null,
      "margin": null,
      "max_height": null,
      "max_width": null,
      "min_height": null,
      "min_width": null,
      "object_fit": null,
      "object_position": null,
      "order": null,
      "overflow": null,
      "overflow_x": null,
      "overflow_y": null,
      "padding": null,
      "right": null,
      "top": null,
      "visibility": null,
      "width": null
     }
    },
    "4ef7908156304a08bed88b37f7a819d3": {
     "model_module": "@jupyter-widgets/controls",
     "model_module_version": "1.5.0",
     "model_name": "FloatProgressModel",
     "state": {
      "_dom_classes": [],
      "_model_module": "@jupyter-widgets/controls",
      "_model_module_version": "1.5.0",
      "_model_name": "FloatProgressModel",
      "_view_count": null,
      "_view_module": "@jupyter-widgets/controls",
      "_view_module_version": "1.5.0",
      "_view_name": "ProgressView",
      "bar_style": "success",
      "description": "100%",
      "description_tooltip": null,
      "layout": "IPY_MODEL_4741f7d77b9343ad88cc5901bf4ebb6e",
      "max": 46827520,
      "min": 0,
      "orientation": "horizontal",
      "style": "IPY_MODEL_18f2b11015404be0b753a51867a30c44",
      "value": 46827520
     }
    },
    "6a6127cafbaf435e895b8aecc29e1d5b": {
     "model_module": "@jupyter-widgets/controls",
     "model_module_version": "1.5.0",
     "model_name": "HBoxModel",
     "state": {
      "_dom_classes": [],
      "_model_module": "@jupyter-widgets/controls",
      "_model_module_version": "1.5.0",
      "_model_name": "HBoxModel",
      "_view_count": null,
      "_view_module": "@jupyter-widgets/controls",
      "_view_module_version": "1.5.0",
      "_view_name": "HBoxView",
      "box_style": "",
      "children": [
       "IPY_MODEL_4ef7908156304a08bed88b37f7a819d3",
       "IPY_MODEL_dc984818c51f4987a1c7069e423190c0"
      ],
      "layout": "IPY_MODEL_8138122202424470ae69a2a51b96a323"
     }
    },
    "6f6b8e23dc21497fa813c8b22ad0a08e": {
     "model_module": "@jupyter-widgets/controls",
     "model_module_version": "1.5.0",
     "model_name": "DescriptionStyleModel",
     "state": {
      "_model_module": "@jupyter-widgets/controls",
      "_model_module_version": "1.5.0",
      "_model_name": "DescriptionStyleModel",
      "_view_count": null,
      "_view_module": "@jupyter-widgets/base",
      "_view_module_version": "1.2.0",
      "_view_name": "StyleView",
      "description_width": ""
     }
    },
    "8138122202424470ae69a2a51b96a323": {
     "model_module": "@jupyter-widgets/base",
     "model_module_version": "1.2.0",
     "model_name": "LayoutModel",
     "state": {
      "_model_module": "@jupyter-widgets/base",
      "_model_module_version": "1.2.0",
      "_model_name": "LayoutModel",
      "_view_count": null,
      "_view_module": "@jupyter-widgets/base",
      "_view_module_version": "1.2.0",
      "_view_name": "LayoutView",
      "align_content": null,
      "align_items": null,
      "align_self": null,
      "border": null,
      "bottom": null,
      "display": null,
      "flex": null,
      "flex_flow": null,
      "grid_area": null,
      "grid_auto_columns": null,
      "grid_auto_flow": null,
      "grid_auto_rows": null,
      "grid_column": null,
      "grid_gap": null,
      "grid_row": null,
      "grid_template_areas": null,
      "grid_template_columns": null,
      "grid_template_rows": null,
      "height": null,
      "justify_content": null,
      "justify_items": null,
      "left": null,
      "margin": null,
      "max_height": null,
      "max_width": null,
      "min_height": null,
      "min_width": null,
      "object_fit": null,
      "object_position": null,
      "order": null,
      "overflow": null,
      "overflow_x": null,
      "overflow_y": null,
      "padding": null,
      "right": null,
      "top": null,
      "visibility": null,
      "width": null
     }
    },
    "d609671ca13e47a78141f54c4b7bf8a1": {
     "model_module": "@jupyter-widgets/base",
     "model_module_version": "1.2.0",
     "model_name": "LayoutModel",
     "state": {
      "_model_module": "@jupyter-widgets/base",
      "_model_module_version": "1.2.0",
      "_model_name": "LayoutModel",
      "_view_count": null,
      "_view_module": "@jupyter-widgets/base",
      "_view_module_version": "1.2.0",
      "_view_name": "LayoutView",
      "align_content": null,
      "align_items": null,
      "align_self": null,
      "border": null,
      "bottom": null,
      "display": null,
      "flex": null,
      "flex_flow": null,
      "grid_area": null,
      "grid_auto_columns": null,
      "grid_auto_flow": null,
      "grid_auto_rows": null,
      "grid_column": null,
      "grid_gap": null,
      "grid_row": null,
      "grid_template_areas": null,
      "grid_template_columns": null,
      "grid_template_rows": null,
      "height": null,
      "justify_content": null,
      "justify_items": null,
      "left": null,
      "margin": null,
      "max_height": null,
      "max_width": null,
      "min_height": null,
      "min_width": null,
      "object_fit": null,
      "object_position": null,
      "order": null,
      "overflow": null,
      "overflow_x": null,
      "overflow_y": null,
      "padding": null,
      "right": null,
      "top": null,
      "visibility": null,
      "width": null
     }
    },
    "dc984818c51f4987a1c7069e423190c0": {
     "model_module": "@jupyter-widgets/controls",
     "model_module_version": "1.5.0",
     "model_name": "HTMLModel",
     "state": {
      "_dom_classes": [],
      "_model_module": "@jupyter-widgets/controls",
      "_model_module_version": "1.5.0",
      "_model_name": "HTMLModel",
      "_view_count": null,
      "_view_module": "@jupyter-widgets/controls",
      "_view_module_version": "1.5.0",
      "_view_name": "HTMLView",
      "description": "",
      "description_tooltip": null,
      "layout": "IPY_MODEL_d609671ca13e47a78141f54c4b7bf8a1",
      "placeholder": "​",
      "style": "IPY_MODEL_6f6b8e23dc21497fa813c8b22ad0a08e",
      "value": " 44.7M/44.7M [00:28&lt;00:00, 1.66MB/s]"
     }
    }
   }
  }
 },
 "nbformat": 4,
 "nbformat_minor": 4
}
